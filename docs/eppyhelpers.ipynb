{
 "cells": [
  {
   "cell_type": "markdown",
   "id": "e8457ce2",
   "metadata": {},
   "source": [
    "# **Stable:** Helpers for eppy"
   ]
  },
  {
   "cell_type": "markdown",
   "id": "e41f08ad",
   "metadata": {},
   "source": [
    "Here are a couple of functions that are useful while working with eppy. The Documentations strings are quite clear on how these functions work. So follow the lnks to the documentations strings"
   ]
  },
  {
   "cell_type": "markdown",
   "id": "20477311",
   "metadata": {},
   "source": [
    "## Extensible field helpers"
   ]
  },
  {
   "cell_type": "markdown",
   "id": "838a992e",
   "metadata": {},
   "source": [
    "Most idfobjects have a fixed number of fields. But some idfobjects in Energyplus have *extensible fields*. These are fields that varying number of items from idfobject to ifeobject. \n",
    "\n",
    "Some examples are `ZONELIST` and `BUILDINGSURFACE:DETAILED`. The `ZONELIST`s can have different number of `ZONES`. Similarly, `BUILDINGSURFACE:DETAILED` can have varying number of coordinate points. These extensible fields can be very long. It can be very cumbersome to work with this one filed at a time. There are two useful helper functions here. One converts the extensible fields to a list. The other converts the list back to an extensible field.\n",
    "\n",
    "Take a look at:\n",
    "\n",
    "- [extensiblefields2list](./witheppy.eppyhelpers.html#witheppy.eppyhelpers.extfields.extensiblefields2list) -> converts to list\n",
    "- [list2extensiblefields](./witheppy.eppyhelpers.html#witheppy.eppyhelpers.extfields.extensiblefields2list)\n",
    " -> converts it back to extensible fields\n",
    " \n",
    " Also look at the other [helper_functions](./witheppy.eppyhelpers.html)"
   ]
  }
 ],
 "metadata": {
  "kernelspec": {
   "display_name": "Python 3 (ipykernel)",
   "language": "python",
   "name": "python3"
  },
  "language_info": {
   "codemirror_mode": {
    "name": "ipython",
    "version": 3
   },
   "file_extension": ".py",
   "mimetype": "text/x-python",
   "name": "python",
   "nbconvert_exporter": "python",
   "pygments_lexer": "ipython3",
   "version": "3.10.8"
  }
 },
 "nbformat": 4,
 "nbformat_minor": 5
}
